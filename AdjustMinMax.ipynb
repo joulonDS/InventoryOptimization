{
 "cells": [
  {
   "cell_type": "code",
   "execution_count": 22,
   "metadata": {},
   "outputs": [],
   "source": [
    "import numpy as np\n",
    "import time \n",
    "import pandas as pd"
   ]
  },
  {
   "cell_type": "code",
   "execution_count": 23,
   "metadata": {},
   "outputs": [],
   "source": [
    "# all the merging and filtering should be done before passing the function"
   ]
  },
  {
   "cell_type": "code",
   "execution_count": 24,
   "metadata": {},
   "outputs": [],
   "source": [
    "# required colums\n",
    "\n",
    "#selected=all_rig_data[['Item','Site','Maximum Level','Minimum Level','Average Cost','Current Balance','Commodity Group','Group_ID']]\n"
   ]
  },
  {
   "cell_type": "code",
   "execution_count": 25,
   "metadata": {},
   "outputs": [],
   "source": [
    "def adjustMinMax(dataFrame):\n",
    "    # converting the data frame \n",
    "    data=pd.DataFrame(dataFrame)\n",
    "    # data frame with non zero minimum\n",
    "    df_non_zero=pd.DataFrame(data[data['Minimum Level']!=0])\n",
    "    # data frame with zero min\n",
    "    df_zero_min=pd.DataFrame(data[data['Minimum Level']==0])\n",
    "    \n",
    "    # replacing the new min as old min for rows with zero min \n",
    "    df_zero_min['Maximum Level Adjusted']=df_zero_min['Maximum Level']\n",
    "    df_zero_min['Minimum Level Adjusted']=df_zero_min['Minimum Level']\n",
    "   \n",
    "    # counting unique items\n",
    "    \n",
    "    vc = df_non_zero.Item.value_counts()\n",
    "    \n",
    "    repeated=vc[vc>1].index.tolist()\n",
    "    non_repeated=vc[vc==1].index.tolist()\n",
    "    \n",
    "    # data frame where the items are repeated\n",
    "    repeated_data=df_non_zero[df_non_zero['Item'].isin(repeated)]\n",
    "    \n",
    "    # data frame where the items are non repeated\n",
    "    non_repeated_data=pd.DataFrame(df_non_zero[df_non_zero['Item'].isin(non_repeated)])\n",
    "    \n",
    "    non_repeated_data['Maximum Level Adjusted']=non_repeated_data['Maximum Level']\n",
    "    non_repeated_data['Minimum Level Adjusted']=non_repeated_data['Minimum Level']\n",
    "    \n",
    "    t = time.time()\n",
    "    # do stuff\n",
    "    new_max_min_snippets=[]\n",
    "\n",
    "\n",
    "    for name, group in repeated_data.groupby('Item'):\n",
    "        max_min_snippet = group\n",
    "        #print(max_min_snippet)\n",
    "        min_level=max_min_snippet.min(0)\n",
    "        min_all=[max_min_snippet[col][max_min_snippet[col].ne(0)].min() for col in max_min_snippet.columns]\n",
    "        min_level=min_all[3]\n",
    "        #print(\\\" the min value is *******\\\",min_level)\n",
    "        new_max_min_snippet=max_min_snippet.copy()\n",
    "        #print(max_min_snippet)\n",
    "        new_max_min_snippet['Minimum Level Adjusted']=max_min_snippet['Minimum Level']\n",
    "        new_max_min_snippet['Current Balance']=max_min_snippet['Current Balance']\n",
    "        new_max_min_snippet.loc[new_max_min_snippet['Minimum Level'] !=0 , 'Minimum Level Adjusted'] = min_level\n",
    "        min_difference=new_max_min_snippet['Minimum Level']-new_max_min_snippet['Minimum Level Adjusted']\n",
    "        new_max_min_snippet['Maximum Level Adjusted']= np.array(new_max_min_snippet['Maximum Level'])-np.array(min_difference)\n",
    "            #print(new_max_min_snippet)\n",
    "        new_max_min_snippets.append(new_max_min_snippet)\n",
    "            #print(len(new_max_min_snippets))\n",
    "        Data_frame = pd.concat(new_max_min_snippets, ignore_index=True)\n",
    "    \n",
    "    elapsed = time.time() - t\n",
    "    print(elapsed)\n",
    "    \n",
    "    # concating the data frames\n",
    "    frames=[Data_frame,non_repeated_data,df_zero_min]\n",
    "    \n",
    "    FinalDF = pd.concat(frames,sort=False)\n",
    "    \n",
    "    return(FinalDF)\n",
    "    \n",
    "    \n",
    "    \n",
    "    \n",
    "    "
   ]
  },
  {
   "cell_type": "code",
   "execution_count": 26,
   "metadata": {},
   "outputs": [],
   "source": [
    "all_rig_data=pd.read_csv(\"All_rigs_with_name.csv\", low_memory=False)"
   ]
  },
  {
   "cell_type": "code",
   "execution_count": 27,
   "metadata": {},
   "outputs": [],
   "source": [
    "    \n",
    "all_rig_data['Current Balance'] = all_rig_data['Current Balance'].replace(to_replace =\",\", value = '', regex = True) \n",
    "\n",
    "all_rig_data['Maximum Level'] = all_rig_data['Maximum Level'].replace(to_replace =\",\", value = '', regex = True) \n",
    "\n",
    "all_rig_data['Minimum Level'] = all_rig_data['Minimum Level'].replace(to_replace =\",\", value = '', regex = True) \n",
    "\n",
    "all_rig_data['Average Cost'] = all_rig_data['Average Cost'].replace(to_replace =\",\", value = '', regex = True) \n",
    "\n",
    "    # converting to float for calculations\n",
    "    \n",
    "all_rig_data['Average Cost'] = all_rig_data['Average Cost'].astype(float)\n",
    "\n",
    "all_rig_data['Minimum Level'] = all_rig_data['Minimum Level'].astype(float)\n",
    "\n",
    "all_rig_data['Maximum Level'] = all_rig_data['Maximum Level'].astype(float)\n",
    "\n",
    "all_rig_data['Current Balance'] = all_rig_data['Current Balance'].astype(float)"
   ]
  },
  {
   "cell_type": "code",
   "execution_count": 28,
   "metadata": {},
   "outputs": [
    {
     "data": {
      "text/plain": [
       "(150742, 28)"
      ]
     },
     "execution_count": 28,
     "metadata": {},
     "output_type": "execute_result"
    }
   ],
   "source": [
    "all_rig_data.shape"
   ]
  },
  {
   "cell_type": "code",
   "execution_count": 29,
   "metadata": {},
   "outputs": [],
   "source": [
    "selected=all_rig_data[['Item','Site','Maximum Level','Minimum Level','Average Cost','Current Balance','Commodity Group','Group_ID']]"
   ]
  },
  {
   "cell_type": "code",
   "execution_count": 30,
   "metadata": {},
   "outputs": [],
   "source": [
    "Group_4=selected.loc[selected['Group_ID'] == 'Group_4']"
   ]
  },
  {
   "cell_type": "code",
   "execution_count": 31,
   "metadata": {},
   "outputs": [
    {
     "data": {
      "text/plain": [
       "(37934, 8)"
      ]
     },
     "execution_count": 31,
     "metadata": {},
     "output_type": "execute_result"
    }
   ],
   "source": [
    "Group_4.shape"
   ]
  },
  {
   "cell_type": "code",
   "execution_count": 32,
   "metadata": {},
   "outputs": [
    {
     "name": "stdout",
     "output_type": "stream",
     "text": [
      "520.6260931491852\n"
     ]
    }
   ],
   "source": [
    "X=adjustMinMax(Group_4)"
   ]
  },
  {
   "cell_type": "code",
   "execution_count": 33,
   "metadata": {},
   "outputs": [],
   "source": [
    "#Similarly we can do for all the groups of rigs"
   ]
  },
  {
   "cell_type": "code",
   "execution_count": 34,
   "metadata": {},
   "outputs": [
    {
     "data": {
      "text/html": [
       "<div>\n",
       "<style scoped>\n",
       "    .dataframe tbody tr th:only-of-type {\n",
       "        vertical-align: middle;\n",
       "    }\n",
       "\n",
       "    .dataframe tbody tr th {\n",
       "        vertical-align: top;\n",
       "    }\n",
       "\n",
       "    .dataframe thead th {\n",
       "        text-align: right;\n",
       "    }\n",
       "</style>\n",
       "<table border=\"1\" class=\"dataframe\">\n",
       "  <thead>\n",
       "    <tr style=\"text-align: right;\">\n",
       "      <th></th>\n",
       "      <th>Item</th>\n",
       "      <th>Site</th>\n",
       "      <th>Maximum Level</th>\n",
       "      <th>Minimum Level</th>\n",
       "      <th>Average Cost</th>\n",
       "      <th>Current Balance</th>\n",
       "      <th>Commodity Group</th>\n",
       "      <th>Group_ID</th>\n",
       "      <th>Minimum Level Adjusted</th>\n",
       "      <th>Maximum Level Adjusted</th>\n",
       "    </tr>\n",
       "  </thead>\n",
       "  <tbody>\n",
       "    <tr>\n",
       "      <th>0</th>\n",
       "      <td>1016771</td>\n",
       "      <td>2298</td>\n",
       "      <td>8.0</td>\n",
       "      <td>6.0</td>\n",
       "      <td>13.30</td>\n",
       "      <td>4.0</td>\n",
       "      <td>ESP</td>\n",
       "      <td>Group_4</td>\n",
       "      <td>1.0</td>\n",
       "      <td>3.0</td>\n",
       "    </tr>\n",
       "    <tr>\n",
       "      <th>1</th>\n",
       "      <td>1016771</td>\n",
       "      <td>2299</td>\n",
       "      <td>2.0</td>\n",
       "      <td>1.0</td>\n",
       "      <td>26.38</td>\n",
       "      <td>2.0</td>\n",
       "      <td>ESP</td>\n",
       "      <td>Group_4</td>\n",
       "      <td>1.0</td>\n",
       "      <td>2.0</td>\n",
       "    </tr>\n",
       "    <tr>\n",
       "      <th>2</th>\n",
       "      <td>1018639</td>\n",
       "      <td>2301</td>\n",
       "      <td>8.0</td>\n",
       "      <td>4.0</td>\n",
       "      <td>1.04</td>\n",
       "      <td>9.0</td>\n",
       "      <td>ESP</td>\n",
       "      <td>Group_4</td>\n",
       "      <td>3.0</td>\n",
       "      <td>7.0</td>\n",
       "    </tr>\n",
       "    <tr>\n",
       "      <th>3</th>\n",
       "      <td>1018639</td>\n",
       "      <td>6070</td>\n",
       "      <td>6.0</td>\n",
       "      <td>3.0</td>\n",
       "      <td>1.05</td>\n",
       "      <td>6.0</td>\n",
       "      <td>ESP</td>\n",
       "      <td>Group_4</td>\n",
       "      <td>3.0</td>\n",
       "      <td>6.0</td>\n",
       "    </tr>\n",
       "    <tr>\n",
       "      <th>4</th>\n",
       "      <td>1096934</td>\n",
       "      <td>2298</td>\n",
       "      <td>4.0</td>\n",
       "      <td>2.0</td>\n",
       "      <td>1439.21</td>\n",
       "      <td>3.0</td>\n",
       "      <td>ESP</td>\n",
       "      <td>Group_4</td>\n",
       "      <td>2.0</td>\n",
       "      <td>4.0</td>\n",
       "    </tr>\n",
       "  </tbody>\n",
       "</table>\n",
       "</div>"
      ],
      "text/plain": [
       "      Item  Site  Maximum Level  Minimum Level  Average Cost  Current Balance  \\\n",
       "0  1016771  2298            8.0            6.0         13.30              4.0   \n",
       "1  1016771  2299            2.0            1.0         26.38              2.0   \n",
       "2  1018639  2301            8.0            4.0          1.04              9.0   \n",
       "3  1018639  6070            6.0            3.0          1.05              6.0   \n",
       "4  1096934  2298            4.0            2.0       1439.21              3.0   \n",
       "\n",
       "  Commodity Group Group_ID  Minimum Level Adjusted  Maximum Level Adjusted  \n",
       "0             ESP  Group_4                     1.0                     3.0  \n",
       "1             ESP  Group_4                     1.0                     2.0  \n",
       "2             ESP  Group_4                     3.0                     7.0  \n",
       "3             ESP  Group_4                     3.0                     6.0  \n",
       "4             ESP  Group_4                     2.0                     4.0  "
      ]
     },
     "execution_count": 34,
     "metadata": {},
     "output_type": "execute_result"
    }
   ],
   "source": [
    "X.head()"
   ]
  },
  {
   "cell_type": "code",
   "execution_count": null,
   "metadata": {},
   "outputs": [],
   "source": []
  }
 ],
 "metadata": {
  "kernelspec": {
   "display_name": "Python 3",
   "language": "python",
   "name": "python3"
  },
  "language_info": {
   "codemirror_mode": {
    "name": "ipython",
    "version": 3
   },
   "file_extension": ".py",
   "mimetype": "text/x-python",
   "name": "python",
   "nbconvert_exporter": "python",
   "pygments_lexer": "ipython3",
   "version": "3.7.3"
  }
 },
 "nbformat": 4,
 "nbformat_minor": 2
}
