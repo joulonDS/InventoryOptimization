{
 "cells": [
  {
   "cell_type": "code",
   "execution_count": 4,
   "metadata": {},
   "outputs": [],
   "source": [
    "def excessCostCalculator(filename):\n",
    "    import pandas as pd\n",
    "    import numpy as np\n",
    "    import re\n",
    "    \n",
    "    inventoryDataFrame=pd.DataFrame(filename)\n",
    "    \n",
    "    # removing the commas\n",
    "    \n",
    "    inventoryDataFrame['Current Balance'] = inventoryDataFrame['Current Balance'].replace(to_replace =\",\", value = '', regex = True) \n",
    "\n",
    "    inventoryDataFrame['Maximum Level'] = inventoryDataFrame['Maximum Level'].replace(to_replace =\",\", value = '', regex = True) \n",
    "\n",
    "    inventoryDataFrame['Minimum Level'] = inventoryDataFrame['Minimum Level'].replace(to_replace =\",\", value = '', regex = True) \n",
    "\n",
    "    inventoryDataFrame['Average Cost'] = inventoryDataFrame['Average Cost'].replace(to_replace =\",\", value = '', regex = True) \n",
    "\n",
    "    # converting to float for calculations\n",
    "    \n",
    "    inventoryDataFrame['Average Cost'] = inventoryDataFrame['Average Cost'].astype(float)\n",
    "\n",
    "    inventoryDataFrame['Minimum Level'] = inventoryDataFrame['Minimum Level'].astype(float)\n",
    "\n",
    "    inventoryDataFrame['Maximum Level'] = inventoryDataFrame['Maximum Level'].astype(float)\n",
    "\n",
    "    inventoryDataFrame['Current Balance'] = inventoryDataFrame['Current Balance'].astype(float)\n",
    "    \n",
    "    # excess inventory\n",
    "    \n",
    "    inventoryDataFrame['Excess Inventory']=inventoryDataFrame['Current Balance']-inventoryDataFrame['Maximum Level']\n",
    "\n",
    "    excessInventoryCount=inventoryDataFrame.loc[inventoryDataFrame['Excess Inventory'] >0, 'Excess Inventory'].sum()\n",
    "    \n",
    "    #excess cost\n",
    "    inventoryDataFrame['Excess Cost']= inventoryDataFrame['Average Cost']* inventoryDataFrame['Excess Inventory']\n",
    "    \n",
    "    excessCostSumMaxNotDefined=(inventoryDataFrame.loc[(inventoryDataFrame['Excess Cost'] >0) & (inventoryDataFrame['Maximum Level'] !=0),'Excess Cost'].sum())\n",
    "\n",
    "    \n",
    "    return (excessInventoryCount,excessCostSumMaxNotDefined)"
   ]
  },
  {
   "cell_type": "code",
   "execution_count": 5,
   "metadata": {},
   "outputs": [],
   "source": [
    "import pandas as pd"
   ]
  },
  {
   "cell_type": "code",
   "execution_count": 6,
   "metadata": {},
   "outputs": [],
   "source": [
    "x=pd.read_csv(\"2299_WCAS_02072019_csv.csv\")"
   ]
  },
  {
   "cell_type": "code",
   "execution_count": 8,
   "metadata": {},
   "outputs": [
    {
     "data": {
      "text/plain": [
       "(6156.0, 596340.6699999999)"
      ]
     },
     "execution_count": 8,
     "metadata": {},
     "output_type": "execute_result"
    }
   ],
   "source": [
    "excessCostCalculator(x)"
   ]
  },
  {
   "cell_type": "code",
   "execution_count": null,
   "metadata": {},
   "outputs": [],
   "source": []
  }
 ],
 "metadata": {
  "kernelspec": {
   "display_name": "Python 3",
   "language": "python",
   "name": "python3"
  },
  "language_info": {
   "codemirror_mode": {
    "name": "ipython",
    "version": 3
   },
   "file_extension": ".py",
   "mimetype": "text/x-python",
   "name": "python",
   "nbconvert_exporter": "python",
   "pygments_lexer": "ipython3",
   "version": "3.7.3"
  }
 },
 "nbformat": 4,
 "nbformat_minor": 2
}
