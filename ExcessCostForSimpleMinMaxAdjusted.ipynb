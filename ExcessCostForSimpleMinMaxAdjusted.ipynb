{
 "cells": [
  {
   "cell_type": "code",
   "execution_count": 6,
   "metadata": {},
   "outputs": [],
   "source": [
    "import pandas as pd\n",
    "import numpy as np"
   ]
  },
  {
   "cell_type": "code",
   "execution_count": 7,
   "metadata": {},
   "outputs": [],
   "source": [
    "def excessCostForCommodityType(filename):\n",
    "    import pandas as pd\n",
    "    import numpy as np\n",
    "    import re\n",
    "    columns=['Site','Commodity Type', 'Excess Cost','Total Excess']\n",
    "   \n",
    "    data_values = []\n",
    "    \n",
    "    inventoryDataFrame=pd.DataFrame(filename)\n",
    "    \n",
    "    # removing the commas\n",
    "    \n",
    "    inventoryDataFrame['Current Balance'] = inventoryDataFrame['Current Balance'].replace(to_replace =\",\", value = '', regex = True) \n",
    "\n",
    "    inventoryDataFrame['Minimum Level Adjusted'] = inventoryDataFrame['Minimum Level Adjusted'].replace(to_replace =\",\", value = '', regex = True) \n",
    "\n",
    "    inventoryDataFrame['Minimum Level Adjusted'] = inventoryDataFrame['Minimum Level Adjusted'].replace(to_replace =\",\", value = '', regex = True) \n",
    "\n",
    "    inventoryDataFrame['Average Cost'] = inventoryDataFrame['Average Cost'].replace(to_replace =\",\", value = '', regex = True) \n",
    "\n",
    "    # converting to float for calculations\n",
    "    \n",
    "    inventoryDataFrame['Average Cost'] = inventoryDataFrame['Average Cost'].astype(float)\n",
    "\n",
    "    inventoryDataFrame['Minimum Level Adjusted'] = inventoryDataFrame['Minimum Level Adjusted'].astype(float)\n",
    "\n",
    "    inventoryDataFrame['Maximum Level Adjusted'] = inventoryDataFrame['Maximum Level Adjusted'].astype(float)\n",
    "\n",
    "    inventoryDataFrame['Current Balance'] = inventoryDataFrame['Current Balance'].astype(float)\n",
    "    site=inventoryDataFrame['Site'].unique()\n",
    "    commodity_type=list(inventoryDataFrame['Commodity Group'].unique())\n",
    "    rigs_data=[]*len(site)\n",
    "    # excess inventory\n",
    "    for Site in site:\n",
    "        inventoryDataFrame['Excess Inventory']=inventoryDataFrame['Current Balance']-inventoryDataFrame['Minimum Level Adjusted']\n",
    "\n",
    "        RigsExcessInventoryCount=inventoryDataFrame.loc[inventoryDataFrame['Excess Inventory'] >0, 'Excess Inventory'].sum()\n",
    "\n",
    "        #excess cost\n",
    "        inventoryDataFrame['Excess Cost']= inventoryDataFrame['Average Cost']* inventoryDataFrame['Excess Inventory']\n",
    "\n",
    "        RigsExcessCostSumMaxND=(inventoryDataFrame.loc[(inventoryDataFrame['Excess Cost'] >0) & (inventoryDataFrame['Maximum Level Adjusted'] !=0) &(inventoryDataFrame['Site']==Site),'Excess Cost'].sum())\n",
    "\n",
    "\n",
    "        RigCommodityExcessCostSumMaxND=[]\n",
    "        for commodity in commodity_type:\n",
    "           # print(commodity)\n",
    "            Excess_cost_for_commodity=(inventoryDataFrame.loc[(inventoryDataFrame['Excess Cost'] >0) & (inventoryDataFrame['Maximum Level Adjusted'] !=0)&(inventoryDataFrame['Commodity Group']==commodity)&(inventoryDataFrame['Site']==Site),'Excess Cost'].sum())\n",
    "            #print(Excess_cost_for_commodity)\n",
    "            \n",
    "            data_values.append([Site,commodity,Excess_cost_for_commodity,RigsExcessCostSumMaxND])\n",
    "            #print(data_values)\n",
    "            \n",
    "        \n",
    "        rig_data_frame = pd.DataFrame(data_values, columns=columns)\n",
    "        \n",
    "    \n",
    "    return (rig_data_frame)"
   ]
  },
  {
   "cell_type": "code",
   "execution_count": 8,
   "metadata": {},
   "outputs": [],
   "source": [
    "rigs_name=pd.read_csv(\"SeadrillRigs.csv\")"
   ]
  },
  {
   "cell_type": "code",
   "execution_count": 9,
   "metadata": {},
   "outputs": [],
   "source": [
    "Group1=pd.read_csv(\"Group_1_min_max_adjust_simple.csv\")\n",
    "Group2=pd.read_csv(\"Group_2_min_max_adjust_simple.csv\")\n",
    "Group3=pd.read_csv(\"Group_3_min_max_adjust_simple.csv\")\n",
    "Group4=pd.read_csv(\"Group_4_min_max_adjust_simple.csv\")"
   ]
  },
  {
   "cell_type": "code",
   "execution_count": 10,
   "metadata": {},
   "outputs": [
    {
     "data": {
      "text/html": [
       "<div>\n",
       "<style scoped>\n",
       "    .dataframe tbody tr th:only-of-type {\n",
       "        vertical-align: middle;\n",
       "    }\n",
       "\n",
       "    .dataframe tbody tr th {\n",
       "        vertical-align: top;\n",
       "    }\n",
       "\n",
       "    .dataframe thead th {\n",
       "        text-align: right;\n",
       "    }\n",
       "</style>\n",
       "<table border=\"1\" class=\"dataframe\">\n",
       "  <thead>\n",
       "    <tr style=\"text-align: right;\">\n",
       "      <th></th>\n",
       "      <th>Item</th>\n",
       "      <th>Site</th>\n",
       "      <th>Minimum Level</th>\n",
       "      <th>Maximum Level</th>\n",
       "      <th>Minimum Level Adjusted</th>\n",
       "      <th>Maximum Level Adjusted</th>\n",
       "      <th>Average Cost</th>\n",
       "      <th>Commodity Group</th>\n",
       "      <th>Current Balance</th>\n",
       "      <th>Group_ID</th>\n",
       "    </tr>\n",
       "  </thead>\n",
       "  <tbody>\n",
       "    <tr>\n",
       "      <th>0</th>\n",
       "      <td>1001704</td>\n",
       "      <td>2314</td>\n",
       "      <td>2.0</td>\n",
       "      <td>4.0</td>\n",
       "      <td>2.0</td>\n",
       "      <td>4.0</td>\n",
       "      <td>32.35</td>\n",
       "      <td>CON</td>\n",
       "      <td>4</td>\n",
       "      <td>Group_1</td>\n",
       "    </tr>\n",
       "    <tr>\n",
       "      <th>1</th>\n",
       "      <td>1001704</td>\n",
       "      <td>2315</td>\n",
       "      <td>5.0</td>\n",
       "      <td>10.0</td>\n",
       "      <td>2.0</td>\n",
       "      <td>7.0</td>\n",
       "      <td>32.35</td>\n",
       "      <td>CON</td>\n",
       "      <td>10</td>\n",
       "      <td>Group_1</td>\n",
       "    </tr>\n",
       "    <tr>\n",
       "      <th>2</th>\n",
       "      <td>1005597</td>\n",
       "      <td>2313</td>\n",
       "      <td>2.0</td>\n",
       "      <td>8.0</td>\n",
       "      <td>1.0</td>\n",
       "      <td>7.0</td>\n",
       "      <td>136.53</td>\n",
       "      <td>CON</td>\n",
       "      <td>2</td>\n",
       "      <td>Group_1</td>\n",
       "    </tr>\n",
       "    <tr>\n",
       "      <th>3</th>\n",
       "      <td>1005597</td>\n",
       "      <td>2315</td>\n",
       "      <td>1.0</td>\n",
       "      <td>2.0</td>\n",
       "      <td>1.0</td>\n",
       "      <td>2.0</td>\n",
       "      <td>130.17</td>\n",
       "      <td>CON</td>\n",
       "      <td>2</td>\n",
       "      <td>Group_1</td>\n",
       "    </tr>\n",
       "    <tr>\n",
       "      <th>4</th>\n",
       "      <td>1008592</td>\n",
       "      <td>2313</td>\n",
       "      <td>1.0</td>\n",
       "      <td>2.0</td>\n",
       "      <td>1.0</td>\n",
       "      <td>2.0</td>\n",
       "      <td>69.00</td>\n",
       "      <td>ESP</td>\n",
       "      <td>2</td>\n",
       "      <td>Group_1</td>\n",
       "    </tr>\n",
       "  </tbody>\n",
       "</table>\n",
       "</div>"
      ],
      "text/plain": [
       "      Item  Site  Minimum Level  Maximum Level  Minimum Level Adjusted  \\\n",
       "0  1001704  2314            2.0            4.0                     2.0   \n",
       "1  1001704  2315            5.0           10.0                     2.0   \n",
       "2  1005597  2313            2.0            8.0                     1.0   \n",
       "3  1005597  2315            1.0            2.0                     1.0   \n",
       "4  1008592  2313            1.0            2.0                     1.0   \n",
       "\n",
       "   Maximum Level Adjusted  Average Cost Commodity Group  Current Balance  \\\n",
       "0                     4.0         32.35             CON                4   \n",
       "1                     7.0         32.35             CON               10   \n",
       "2                     7.0        136.53             CON                2   \n",
       "3                     2.0        130.17             CON                2   \n",
       "4                     2.0         69.00             ESP                2   \n",
       "\n",
       "  Group_ID  \n",
       "0  Group_1  \n",
       "1  Group_1  \n",
       "2  Group_1  \n",
       "3  Group_1  \n",
       "4  Group_1  "
      ]
     },
     "execution_count": 10,
     "metadata": {},
     "output_type": "execute_result"
    }
   ],
   "source": [
    "Group1.head()"
   ]
  },
  {
   "cell_type": "code",
   "execution_count": 11,
   "metadata": {},
   "outputs": [],
   "source": [
    "Group1_excess_cost=excessCostForCommodityType(Group1)"
   ]
  },
  {
   "cell_type": "code",
   "execution_count": 12,
   "metadata": {},
   "outputs": [],
   "source": [
    "Group1_excess_cost_Min_max_simple=pd.merge(Group1_excess_cost, rigs_name, left_on='Site', right_on='ID', how='left').drop('ID', axis=1)"
   ]
  },
  {
   "cell_type": "code",
   "execution_count": 13,
   "metadata": {},
   "outputs": [],
   "source": [
    "Group1_excess_cost_Min_max_simple.to_csv(\"Group1_excess_cost_Min_max_simple.csv\",index=False)"
   ]
  },
  {
   "cell_type": "code",
   "execution_count": null,
   "metadata": {},
   "outputs": [],
   "source": []
  },
  {
   "cell_type": "code",
   "execution_count": 14,
   "metadata": {},
   "outputs": [],
   "source": [
    "Group2_excess_cost=excessCostForCommodityType(Group2)"
   ]
  },
  {
   "cell_type": "code",
   "execution_count": 15,
   "metadata": {},
   "outputs": [],
   "source": [
    "Group2_excess_cost_Min_max_simple=pd.merge(Group2_excess_cost, rigs_name, left_on='Site', right_on='ID', how='left').drop('ID', axis=1)"
   ]
  },
  {
   "cell_type": "code",
   "execution_count": 16,
   "metadata": {},
   "outputs": [],
   "source": [
    "Group2_excess_cost_Min_max_simple.to_csv(\"Group2_excess_cost_Min_max_simple.csv\",index=False)"
   ]
  },
  {
   "cell_type": "code",
   "execution_count": null,
   "metadata": {},
   "outputs": [],
   "source": []
  },
  {
   "cell_type": "code",
   "execution_count": 17,
   "metadata": {},
   "outputs": [],
   "source": [
    "Group3_excess_cost=excessCostForCommodityType(Group3)"
   ]
  },
  {
   "cell_type": "code",
   "execution_count": 18,
   "metadata": {},
   "outputs": [],
   "source": [
    "Group3_excess_cost_Min_max_simple=pd.merge(Group3_excess_cost, rigs_name, left_on='Site', right_on='ID', how='left').drop('ID', axis=1)"
   ]
  },
  {
   "cell_type": "code",
   "execution_count": 19,
   "metadata": {},
   "outputs": [],
   "source": [
    "Group3_excess_cost_Min_max_simple.to_csv(\"Group3_excess_cost_Min_max_simple.csv\",index=False)"
   ]
  },
  {
   "cell_type": "code",
   "execution_count": null,
   "metadata": {},
   "outputs": [],
   "source": []
  },
  {
   "cell_type": "code",
   "execution_count": 20,
   "metadata": {},
   "outputs": [],
   "source": [
    "Group4_excess_cost=excessCostForCommodityType(Group4)"
   ]
  },
  {
   "cell_type": "code",
   "execution_count": 21,
   "metadata": {},
   "outputs": [],
   "source": [
    "Group4_excess_cost_Min_max_simple=pd.merge(Group4_excess_cost, rigs_name, left_on='Site', right_on='ID', how='left').drop('ID', axis=1)"
   ]
  },
  {
   "cell_type": "code",
   "execution_count": 22,
   "metadata": {},
   "outputs": [],
   "source": [
    "Group4_excess_cost_Min_max_simple.to_csv(\"Group4_excess_cost_Min_max_simple.csv\",index=False)"
   ]
  },
  {
   "cell_type": "code",
   "execution_count": null,
   "metadata": {},
   "outputs": [],
   "source": []
  }
 ],
 "metadata": {
  "kernelspec": {
   "display_name": "Python 3",
   "language": "python",
   "name": "python3"
  },
  "language_info": {
   "codemirror_mode": {
    "name": "ipython",
    "version": 3
   },
   "file_extension": ".py",
   "mimetype": "text/x-python",
   "name": "python",
   "nbconvert_exporter": "python",
   "pygments_lexer": "ipython3",
   "version": "3.7.3"
  }
 },
 "nbformat": 4,
 "nbformat_minor": 2
}
